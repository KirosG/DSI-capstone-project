{
 "cells": [
  {
   "cell_type": "markdown",
   "metadata": {},
   "source": [
    "# 4.04: Regression Modeling and Analysis\n",
    "\n",
    "---"
   ]
  },
  {
   "cell_type": "code",
   "execution_count": 2,
   "metadata": {},
   "outputs": [],
   "source": [
    "import pandas as pd\n",
    "from pandas_profiling import ProfileReport\n",
    "import numpy as np\n",
    "import matplotlib.pyplot as plt\n",
    "import seaborn as sns\n",
    "import scipy.stats as stats\n",
    "import feather\n",
    "import csv\n",
    "import os\n",
    "import theano\n",
    "from datetime import datetime\n",
    "from pickletools import pickle\n",
    "from pymc3 import Model, sample, Normal, HalfCauchy, Uniform\n",
    "% matplotlib inline"
   ]
  },
  {
   "cell_type": "markdown",
   "metadata": {},
   "source": [
    "---\n",
    "### Part 1: State-Level Income-Vote Modeling"
   ]
  },
  {
   "cell_type": "markdown",
   "metadata": {},
   "source": [
    "Most of this was already completed in the [previous notebook](03-data-cleaning-eda.ipynb). The next step is to do it more formally and exhaustively."
   ]
  },
  {
   "cell_type": "code",
   "execution_count": null,
   "metadata": {},
   "outputs": [],
   "source": []
  },
  {
   "cell_type": "markdown",
   "metadata": {},
   "source": [
    "---\n",
    "\n",
    "### Part 2: Individual Income-Vote Modeling, National"
   ]
  },
  {
   "cell_type": "code",
   "execution_count": null,
   "metadata": {},
   "outputs": [],
   "source": []
  },
  {
   "cell_type": "code",
   "execution_count": null,
   "metadata": {},
   "outputs": [],
   "source": []
  },
  {
   "cell_type": "markdown",
   "metadata": {},
   "source": [
    "### Part 3: Individual Income-Vote Modeling, State"
   ]
  },
  {
   "cell_type": "code",
   "execution_count": 3,
   "metadata": {},
   "outputs": [],
   "source": [
    "path = '../../../Large Datasets/capstone/feather/'\n",
    "filelist = os.listdir(path)\n",
    "filelist = [file for file in filelist if file.endswith('.feather')]"
   ]
  },
  {
   "cell_type": "code",
   "execution_count": 4,
   "metadata": {},
   "outputs": [
    {
     "data": {
      "text/plain": [
       "['2000_labeled_processed_race.feather',\n",
       " '1996_labeled_processed_race.feather',\n",
       " 'cumulative_2006_2016_dta.feather',\n",
       " '1984_labeled_processed_race.feather',\n",
       " 'cces_cumul_0616_rds.feather',\n",
       " '1988_labeled_processed_race.feather',\n",
       " 'avgincome_orig.feather',\n",
       " 'fips.icpsr.cbs.naes.feather',\n",
       " 'annen2004_processed.feather',\n",
       " 'anes_timeseries_2016_voteval.feather',\n",
       " '2004_labeled_processed_race.feather',\n",
       " 'region_dummies_84.feather',\n",
       " '1992_labeled_processed_race.feather',\n",
       " 'anes_timeseries_cdf.feather',\n",
       " 'region_dummies.feather',\n",
       " 'anes_timeseries_2016.feather',\n",
       " 'region_indic_annen2000.feather',\n",
       " 'annen061229.feather']"
      ]
     },
     "execution_count": 4,
     "metadata": {},
     "output_type": "execute_result"
    }
   ],
   "source": [
    "filelist"
   ]
  },
  {
   "cell_type": "code",
   "execution_count": null,
   "metadata": {},
   "outputs": [],
   "source": []
  },
  {
   "cell_type": "code",
   "execution_count": null,
   "metadata": {},
   "outputs": [],
   "source": [
    "with Model() as varying_intercept_slope:\n",
    "\n",
    "    # Priors\n",
    "    mu_a = Normal('mu_a', mu=0., sd=1e5)\n",
    "    sigma_a = HalfCauchy('sigma_a', 5)\n",
    "    mu_b = Normal('mu_b', mu=0., sd=1e5)\n",
    "    sigma_b = HalfCauchy('sigma_b', 5)\n",
    "\n",
    "    # Random intercepts\n",
    "    a = Normal('a', mu=mu_a, sd=sigma_a, shape=counties)\n",
    "    # Random slopes\n",
    "    b = Normal('b', mu=mu_b, sd=sigma_b, shape=counties)\n",
    "\n",
    "    # Model error\n",
    "    sigma_y = Uniform('sigma_y', lower=0, upper=100)\n",
    "\n",
    "    # Expected value\n",
    "    y_hat = a[county] + b[county] * floor_measure\n",
    "\n",
    "    # Data likelihood\n",
    "    y_like = Normal('y_like', mu=y_hat, sd=sigma_y, observed=log_radon)"
   ]
  },
  {
   "cell_type": "markdown",
   "metadata": {},
   "source": [
    "### Part 4: Individual Income-Vote Modeling, Counties Within State (Optional)"
   ]
  },
  {
   "cell_type": "code",
   "execution_count": null,
   "metadata": {},
   "outputs": [],
   "source": [
    "with Model() as varying_intercept_slope:\n",
    "\n",
    "    # Priors\n",
    "    mu_a = Normal('mu_a', mu=0., sd=1e5)\n",
    "    sigma_a = HalfCauchy('sigma_a', 5)\n",
    "    mu_b = Normal('mu_b', mu=0., sd=1e5)\n",
    "    sigma_b = HalfCauchy('sigma_b', 5)\n",
    "\n",
    "    # Random intercepts\n",
    "    a = Normal('a', mu=mu_a, sd=sigma_a, shape=counties)\n",
    "    # Random slopes\n",
    "    b = Normal('b', mu=mu_b, sd=sigma_b, shape=counties)\n",
    "\n",
    "    # Model error\n",
    "    sigma_y = Uniform('sigma_y', lower=0, upper=100)\n",
    "\n",
    "    # Expected value\n",
    "    y_hat = a[county] + b[county] * floor_measure\n",
    "\n",
    "    # Data likelihood\n",
    "    y_like = Normal('y_like', mu=y_hat, sd=sigma_y, observed=log_radon)"
   ]
  }
 ],
 "metadata": {
  "kernelspec": {
   "display_name": "Python [default]",
   "language": "python",
   "name": "python3"
  },
  "language_info": {
   "codemirror_mode": {
    "name": "ipython",
    "version": 3
   },
   "file_extension": ".py",
   "mimetype": "text/x-python",
   "name": "python",
   "nbconvert_exporter": "python",
   "pygments_lexer": "ipython3",
   "version": "3.6.4"
  }
 },
 "nbformat": 4,
 "nbformat_minor": 2
}
