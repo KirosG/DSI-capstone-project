{
 "cells": [
  {
   "cell_type": "markdown",
   "metadata": {},
   "source": [
    "# \"Red State, Blue State, Rich State, Poor State\" Revisited\n",
    "\n",
    "_Puneet Kollipara_\n",
    "\n",
    "---"
   ]
  },
  {
   "cell_type": "markdown",
   "metadata": {},
   "source": [
    "## Abstract\n",
    "\n",
    "One of the defining features of America's political divide throughout the post-Cold War era was a growing relationship between a voters' income and their voting behavior, as rich voters started to increasingly lean Republican at the presidential level, and poor voters Democratic. Simultaneously, however, a seemingly paradoxical pattern emerged when the income divide in voting behavior was gauged at the state level, as rich _states_ were increasingly voting for Democratic presidential candidates, and poor ones for Republicans. Gelman, et al., (_Quart. J. Pol. Sci._ 2007), seeking an explanation for the so-called red-blue paradox, showed through multilevel linear modeling approaches that income had become far less predictive of voting behavior in richer states and more predictive in poorer states by the mid-2000s. Since then, however, the American political landscape (and, with it, the major parties' electoral coalitions) has undergone a seismic transformation in the wake of the Great Recession. Exit polling data from the 2008, 2012 and 2016 elections suggested that income's influence on voting behavior might have started to wane. However, many scholars approach exit polling data with caution, given widespread concerns about their ability to gain a representative picture of the American electorate. Overall, in recent years, little research into whether the red-blue paradox persists in the wake of the shifting political landscape has been done. In order to provide more insight into that lingering question, this study seeks to build upon Gelman, et al.'s seminal work in the wake of 2008, 2012 and 2016 presidential elections. A combination of linear modeling approaches very similar to theirs was employed. Overall, the results suggest that \\[FOOBAR\\].\n",
    "\n",
    "---"
   ]
  },
  {
   "cell_type": "markdown",
   "metadata": {},
   "source": [
    "## Introduction\n",
    "\n",
    "From the time of President Franklin D. Roosevelt's New Deal onward, the Democratic Party was held to be the party of working-class and poor Americans, consisting of a diverse (if, at times, divided) coalition of rural, downscale whites, urban ethnic whites and minorities. The Republican Party, meanwhile, came to be known as a party of the wealthy and the educated, with the GOP benefiting from the growth of suburbia in the wake of World War II. "
   ]
  },
  {
   "cell_type": "code",
   "execution_count": null,
   "metadata": {},
   "outputs": [],
   "source": []
  }
 ],
 "metadata": {
  "kernelspec": {
   "display_name": "Python 3",
   "language": "python",
   "name": "python3"
  },
  "language_info": {
   "codemirror_mode": {
    "name": "ipython",
    "version": 3
   },
   "file_extension": ".py",
   "mimetype": "text/x-python",
   "name": "python",
   "nbconvert_exporter": "python",
   "pygments_lexer": "ipython3",
   "version": "3.6.5"
  }
 },
 "nbformat": 4,
 "nbformat_minor": 2
}
