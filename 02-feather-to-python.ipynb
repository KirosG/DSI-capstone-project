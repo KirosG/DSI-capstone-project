{
 "cells": [
  {
   "cell_type": "markdown",
   "metadata": {},
   "source": [
    "# 4.02: Importing Feathered Data Into Pandas for EDA, Cleaning\n",
    "---"
   ]
  },
  {
   "cell_type": "code",
   "execution_count": 5,
   "metadata": {},
   "outputs": [],
   "source": [
    "import pandas as pd\n",
    "from pandas_profiling import ProfileReport\n",
    "import numpy as np\n",
    "import matplotlib.pyplot as plt\n",
    "import seaborn as sns\n",
    "import scipy.stats as stats\n",
    "import string\n",
    "import re\n",
    "import feather\n",
    "import csv\n",
    "import os\n",
    "import collections\n",
    "from datetime import datetime\n",
    "from pickletools import pickle"
   ]
  },
  {
   "cell_type": "markdown",
   "metadata": {},
   "source": [
    "---\n",
    "### 1\\. Dry Run"
   ]
  },
  {
   "cell_type": "code",
   "execution_count": 3,
   "metadata": {},
   "outputs": [],
   "source": [
    "path = '../../../Large Datasets/capstone/feather/'\n",
    "cces0616_feather = feather.read_dataframe(path+'cces_cumul_0616_rds.feather')"
   ]
  },
  {
   "cell_type": "code",
   "execution_count": 4,
   "metadata": {},
   "outputs": [
    {
     "data": {
      "text/html": [
       "<div>\n",
       "<style scoped>\n",
       "    .dataframe tbody tr th:only-of-type {\n",
       "        vertical-align: middle;\n",
       "    }\n",
       "\n",
       "    .dataframe tbody tr th {\n",
       "        vertical-align: top;\n",
       "    }\n",
       "\n",
       "    .dataframe thead th {\n",
       "        text-align: right;\n",
       "    }\n",
       "</style>\n",
       "<table border=\"1\" class=\"dataframe\">\n",
       "  <thead>\n",
       "    <tr style=\"text-align: right;\">\n",
       "      <th></th>\n",
       "      <th>year</th>\n",
       "      <th>case_id</th>\n",
       "      <th>weight</th>\n",
       "      <th>weight_cumulative</th>\n",
       "      <th>state</th>\n",
       "      <th>st</th>\n",
       "      <th>cd</th>\n",
       "      <th>dist</th>\n",
       "      <th>dist_up</th>\n",
       "      <th>cong</th>\n",
       "      <th>...</th>\n",
       "      <th>voted_gov_chosen</th>\n",
       "      <th>voted_gov_fec</th>\n",
       "      <th>rep_current</th>\n",
       "      <th>rep_icpsr</th>\n",
       "      <th>sen1_current</th>\n",
       "      <th>sen1_icpsr</th>\n",
       "      <th>sen2_current</th>\n",
       "      <th>sen2_icpsr</th>\n",
       "      <th>gov_current</th>\n",
       "      <th>gov_fec</th>\n",
       "    </tr>\n",
       "  </thead>\n",
       "  <tbody>\n",
       "    <tr>\n",
       "      <th>0</th>\n",
       "      <td>2006</td>\n",
       "      <td>439219</td>\n",
       "      <td>1.851676</td>\n",
       "      <td>1.667581</td>\n",
       "      <td>North Carolina</td>\n",
       "      <td>NC</td>\n",
       "      <td>NC-10</td>\n",
       "      <td>10</td>\n",
       "      <td>10</td>\n",
       "      <td>109</td>\n",
       "      <td>...</td>\n",
       "      <td>None</td>\n",
       "      <td>None</td>\n",
       "      <td>Patrick T. McHenry (R)</td>\n",
       "      <td>20522.0</td>\n",
       "      <td>Elizabeth Dole (R)</td>\n",
       "      <td>40303.0</td>\n",
       "      <td>Richard Burr (R)</td>\n",
       "      <td>29548.0</td>\n",
       "      <td>Michael Easley (D)</td>\n",
       "      <td>NC5998</td>\n",
       "    </tr>\n",
       "    <tr>\n",
       "      <th>1</th>\n",
       "      <td>2006</td>\n",
       "      <td>439224</td>\n",
       "      <td>0.968308</td>\n",
       "      <td>0.872039</td>\n",
       "      <td>Ohio</td>\n",
       "      <td>OH</td>\n",
       "      <td>OH-3</td>\n",
       "      <td>3</td>\n",
       "      <td>3</td>\n",
       "      <td>109</td>\n",
       "      <td>...</td>\n",
       "      <td>Ted Strickland (D)</td>\n",
       "      <td>OH19691</td>\n",
       "      <td>Michael R. Turner (R)</td>\n",
       "      <td>20342.0</td>\n",
       "      <td>Mike DeWine (R)</td>\n",
       "      <td>15020.0</td>\n",
       "      <td>George V. Voinovich (R)</td>\n",
       "      <td>49903.0</td>\n",
       "      <td>Bob Taft (R)</td>\n",
       "      <td>None</td>\n",
       "    </tr>\n",
       "    <tr>\n",
       "      <th>2</th>\n",
       "      <td>2006</td>\n",
       "      <td>439228</td>\n",
       "      <td>1.593441</td>\n",
       "      <td>1.435020</td>\n",
       "      <td>New Jersey</td>\n",
       "      <td>NJ</td>\n",
       "      <td>NJ-1</td>\n",
       "      <td>1</td>\n",
       "      <td>1</td>\n",
       "      <td>109</td>\n",
       "      <td>...</td>\n",
       "      <td>None</td>\n",
       "      <td>None</td>\n",
       "      <td>Robert E. Andrews (D)</td>\n",
       "      <td>29132.0</td>\n",
       "      <td>Robert Menendez (D)</td>\n",
       "      <td>29373.0</td>\n",
       "      <td>Frank R. Lautenberg (D)</td>\n",
       "      <td>14914.0</td>\n",
       "      <td>Jon Corzine (D)</td>\n",
       "      <td>NJ6395</td>\n",
       "    </tr>\n",
       "    <tr>\n",
       "      <th>3</th>\n",
       "      <td>2006</td>\n",
       "      <td>439237</td>\n",
       "      <td>1.398529</td>\n",
       "      <td>1.259486</td>\n",
       "      <td>Illinois</td>\n",
       "      <td>IL</td>\n",
       "      <td>IL-9</td>\n",
       "      <td>9</td>\n",
       "      <td>9</td>\n",
       "      <td>109</td>\n",
       "      <td>...</td>\n",
       "      <td>Rod Blagojevich (D)</td>\n",
       "      <td>IL7</td>\n",
       "      <td>Janice D. Schakowsky (D)</td>\n",
       "      <td>29911.0</td>\n",
       "      <td>Richard Durbin (D)</td>\n",
       "      <td>15021.0</td>\n",
       "      <td>Barack Obama (D)</td>\n",
       "      <td>40502.0</td>\n",
       "      <td>Rod Blagojevich (D)</td>\n",
       "      <td>IL7</td>\n",
       "    </tr>\n",
       "    <tr>\n",
       "      <th>4</th>\n",
       "      <td>2006</td>\n",
       "      <td>439238</td>\n",
       "      <td>0.902890</td>\n",
       "      <td>0.813124</td>\n",
       "      <td>New York</td>\n",
       "      <td>NY</td>\n",
       "      <td>NY-22</td>\n",
       "      <td>22</td>\n",
       "      <td>22</td>\n",
       "      <td>109</td>\n",
       "      <td>...</td>\n",
       "      <td>Eliot Spitzer (D)</td>\n",
       "      <td>NY19490</td>\n",
       "      <td>Maurice D. Hinchey (D)</td>\n",
       "      <td>29380.0</td>\n",
       "      <td>Charles E. Schumer (D)</td>\n",
       "      <td>14858.0</td>\n",
       "      <td>Hillary Rodham Clinton (D)</td>\n",
       "      <td>40105.0</td>\n",
       "      <td>George Pataki (R)</td>\n",
       "      <td>None</td>\n",
       "    </tr>\n",
       "  </tbody>\n",
       "</table>\n",
       "<p>5 rows × 68 columns</p>\n",
       "</div>"
      ],
      "text/plain": [
       "   year  case_id    weight  weight_cumulative           state  st     cd  \\\n",
       "0  2006   439219  1.851676           1.667581  North Carolina  NC  NC-10   \n",
       "1  2006   439224  0.968308           0.872039            Ohio  OH   OH-3   \n",
       "2  2006   439228  1.593441           1.435020      New Jersey  NJ   NJ-1   \n",
       "3  2006   439237  1.398529           1.259486        Illinois  IL   IL-9   \n",
       "4  2006   439238  0.902890           0.813124        New York  NY  NY-22   \n",
       "\n",
       "   dist  dist_up  cong   ...        voted_gov_chosen voted_gov_fec  \\\n",
       "0    10       10   109   ...                    None          None   \n",
       "1     3        3   109   ...      Ted Strickland (D)       OH19691   \n",
       "2     1        1   109   ...                    None          None   \n",
       "3     9        9   109   ...     Rod Blagojevich (D)           IL7   \n",
       "4    22       22   109   ...       Eliot Spitzer (D)       NY19490   \n",
       "\n",
       "                rep_current  rep_icpsr            sen1_current  sen1_icpsr  \\\n",
       "0    Patrick T. McHenry (R)    20522.0      Elizabeth Dole (R)     40303.0   \n",
       "1     Michael R. Turner (R)    20342.0         Mike DeWine (R)     15020.0   \n",
       "2     Robert E. Andrews (D)    29132.0     Robert Menendez (D)     29373.0   \n",
       "3  Janice D. Schakowsky (D)    29911.0      Richard Durbin (D)     15021.0   \n",
       "4    Maurice D. Hinchey (D)    29380.0  Charles E. Schumer (D)     14858.0   \n",
       "\n",
       "                 sen2_current  sen2_icpsr          gov_current  gov_fec  \n",
       "0            Richard Burr (R)     29548.0   Michael Easley (D)   NC5998  \n",
       "1     George V. Voinovich (R)     49903.0         Bob Taft (R)     None  \n",
       "2     Frank R. Lautenberg (D)     14914.0      Jon Corzine (D)   NJ6395  \n",
       "3            Barack Obama (D)     40502.0  Rod Blagojevich (D)      IL7  \n",
       "4  Hillary Rodham Clinton (D)     40105.0    George Pataki (R)     None  \n",
       "\n",
       "[5 rows x 68 columns]"
      ]
     },
     "execution_count": 4,
     "metadata": {},
     "output_type": "execute_result"
    }
   ],
   "source": [
    "cces0616_feather.head()"
   ]
  },
  {
   "cell_type": "code",
   "execution_count": 6,
   "metadata": {},
   "outputs": [],
   "source": [
    "dictionary = collections.defaultdict()"
   ]
  },
  {
   "cell_type": "code",
   "execution_count": 7,
   "metadata": {},
   "outputs": [],
   "source": [
    "cces0616_dtypes = cces0616_feather.dtypes.to_dict(into=dictionary)"
   ]
  },
  {
   "cell_type": "code",
   "execution_count": 8,
   "metadata": {},
   "outputs": [
    {
     "data": {
      "text/plain": [
       "defaultdict(None,\n",
       "            {'year': dtype('int32'),\n",
       "             'case_id': dtype('int32'),\n",
       "             'weight': dtype('float64'),\n",
       "             'weight_cumulative': dtype('float64'),\n",
       "             'state': dtype('O'),\n",
       "             'st': dtype('O'),\n",
       "             'cd': dtype('O'),\n",
       "             'dist': dtype('int32'),\n",
       "             'dist_up': dtype('int32'),\n",
       "             'cong': dtype('int32'),\n",
       "             'cong_up': dtype('int32'),\n",
       "             'zipcode': dtype('O'),\n",
       "             'county_fips': dtype('O'),\n",
       "             'tookpost': dtype('float64'),\n",
       "             'weight_vv': dtype('float64'),\n",
       "             'weight_vv_post': dtype('float64'),\n",
       "             'starttime': datetime64[ns, UTC],\n",
       "             'pid3': dtype('float64'),\n",
       "             'pid7': dtype('float64'),\n",
       "             'pid3_leaner': dtype('float64'),\n",
       "             'gender': dtype('int32'),\n",
       "             'birthyr': dtype('int32'),\n",
       "             'age': dtype('int32'),\n",
       "             'race': dtype('int32'),\n",
       "             'educ': dtype('float64'),\n",
       "             'economy_retro': dtype('float64'),\n",
       "             'approval_pres': dtype('float64'),\n",
       "             'approval_rep': CategoricalDtype(categories=['Strongly Approve', 'Approve / Somewhat Approve',\n",
       "                               'Disapprove / Somewhat Disapprove', 'Strongly Disapprove',\n",
       "                               'Never Heard / Not Sure', 'Neither Approve Nor Disapprove'],\n",
       "                              ordered=False),\n",
       "             'approval_sen1': CategoricalDtype(categories=['Strongly Approve', 'Approve / Somewhat Approve',\n",
       "                               'Disapprove / Somewhat Disapprove', 'Strongly Disapprove',\n",
       "                               'Never Heard / Not Sure', 'Neither Approve Nor Disapprove'],\n",
       "                              ordered=False),\n",
       "             'approval_sen2': CategoricalDtype(categories=['Strongly Approve', 'Approve / Somewhat Approve',\n",
       "                               'Disapprove / Somewhat Disapprove', 'Strongly Disapprove',\n",
       "                               'Never Heard / Not Sure', 'Neither Approve Nor Disapprove'],\n",
       "                              ordered=False),\n",
       "             'approval_gov': dtype('float64'),\n",
       "             'intent_pres_08': CategoricalDtype(categories=['John McCain', 'Barack Obama', 'Ron Paul', 'Ralph Nader',\n",
       "                               'Bob Barr', 'Cynthia McKinney', 'Other',\n",
       "                               'I Won't Vote In This Election', 'I'm Not Sure'],\n",
       "                              ordered=False),\n",
       "             'intent_pres_12': CategoricalDtype(categories=['Mitt Romney (Republican)', 'Barack Obama (Democratic)',\n",
       "                               'Other', 'I Will Not Vote In This Election', 'I'm Not Sure'],\n",
       "                              ordered=False),\n",
       "             'intent_pres_16': CategoricalDtype(categories=['Donald Trump (Republican)', 'Hillary Clinton (Democrat)',\n",
       "                               'Gary Johnson (Libertarian)', 'Jill Stein (Green)', 'Other',\n",
       "                               'I Won't Vote In This Election', 'I'm Not Sure'],\n",
       "                              ordered=False),\n",
       "             'voted_pres_08': CategoricalDtype(categories=['Barack Obama (Democratic)', 'John McCain (Republican)',\n",
       "                               'Someone Else', 'Did Not Vote', 'Don't Recall'],\n",
       "                              ordered=False),\n",
       "             'voted_pres_12': CategoricalDtype(categories=['Barack Obama', 'Mitt Romney', 'Other / Someone Else',\n",
       "                               'Did Not Vote', 'Not Sure / Don't Recall',\n",
       "                               'I Did Not Vote In This Race'],\n",
       "                              ordered=False),\n",
       "             'voted_pres_16': CategoricalDtype(categories=['Donald Trump (Republican)', 'Hillary Clinton (Democrat)',\n",
       "                               'Gary Johnson (Libertarian)', 'Jill Stein (Green)', 'Other',\n",
       "                               'I Didn't Vote In This Election', 'I'm Not Sure',\n",
       "                               'Evan McMullin (Independent)', '9'],\n",
       "                              ordered=False),\n",
       "             'vv_regstatus': CategoricalDtype(categories=['Active', 'No Record Of Registration', 'Unregistered',\n",
       "                               'Dropped', 'Inactive', 'Multiple Appearances'],\n",
       "                              ordered=False),\n",
       "             'vv_party_gen': CategoricalDtype(categories=['No Record Of Party Registration', 'Unknown',\n",
       "                               'Democratic Party', 'Republican Party',\n",
       "                               'No Party Affiliation', 'Declined To State', 'Other',\n",
       "                               'Independent Party', 'Liberatarian Party', 'Green Party',\n",
       "                               'Constitution Party', 'Reform Party', 'Socialist Party'],\n",
       "                              ordered=False),\n",
       "             'vv_party_prm': CategoricalDtype(categories=['No Record Of Party Registration', 'Republican Party',\n",
       "                               'Democratic Party'],\n",
       "                              ordered=False),\n",
       "             'vv_turnout_gvm': CategoricalDtype(categories=['Voted', 'No Record Of Voting', 'No Voter File'], ordered=False),\n",
       "             'vv_turnout_pvm': CategoricalDtype(categories=['No Record Of Voting', 'Voted', 'No Voter File'], ordered=False),\n",
       "             'intent_rep': CategoricalDtype(categories=['[Democrat / Candidate 1]', '[Republican / Candidate 2]',\n",
       "                               '[Other / Candidate 3]',\n",
       "                               '$HouseCand4Name ($HouseCand4Party)', 'Other',\n",
       "                               'I'm Not Sure', 'No One',\n",
       "                               '$HouseCand5Name ($HouseCand5Party)',\n",
       "                               'I Won't Vote In This Election',\n",
       "                               '$HouseCand6Name ($HouseCand6Party)',\n",
       "                               '$HouseCand7Name ($HouseCand7Party)',\n",
       "                               '$HouseCand8Name ($HouseCand8Party)',\n",
       "                               '$HouseCand9Name ($HouseCand9Party)',\n",
       "                               '$HouseCand10Name ($HouseCand10Party)',\n",
       "                               '$HouseCand11Name ($HouseCand11Party)'],\n",
       "                              ordered=False),\n",
       "             'intent_sen': CategoricalDtype(categories=['[Democrat / Candidate 1]', '[Republican / Candidate 2]',\n",
       "                               '[Other / Candidate 3]', '$SenCand4Name ($SenCand4Party)',\n",
       "                               'Other', 'I'm Not Sure', 'No One',\n",
       "                               'I Won't Vote In This Election'],\n",
       "                              ordered=False),\n",
       "             'intent_gov': CategoricalDtype(categories=['[Democrat / Candidate 1]', '[Republican / Candidate 2]',\n",
       "                               '[Other / Candidate 3]', 'Other', 'I'm Not Sure', 'No One',\n",
       "                               'I Won't Vote In This Election'],\n",
       "                              ordered=False),\n",
       "             'voted_rep': CategoricalDtype(categories=['[Democrat / Candidate 1]', '[Republican / Candidate 2]',\n",
       "                               '[Other / Candidate 3]',\n",
       "                               '$HouseCand4Name ($HouseCand4Party)', 'Other',\n",
       "                               'I Did Not Vote In This Race',\n",
       "                               '$HouseCand5Name ($HouseCand5Party)', 'Not Sure',\n",
       "                               '$HouseCand6Name ($HouseCand6Party)',\n",
       "                               '$HouseCand7Name ($HouseCand7Party)',\n",
       "                               '$HouseCand8Name ($HouseCand8Party)',\n",
       "                               '$HouseCand9Name ($HouseCand9Party)',\n",
       "                               '$HouseCand10Name ($HouseCand10Party)',\n",
       "                               '$HouseCand11Name ($HouseCand11Party)'],\n",
       "                              ordered=False),\n",
       "             'voted_sen': CategoricalDtype(categories=['[Democrat / Candidate 1]', '[Republican / Candidate 2]',\n",
       "                               '[Other / Candidate 3]', 'Other', 'Not Sure',\n",
       "                               '$SenCand4Name ($SenCand4Party)',\n",
       "                               'I Did Not Vote In This Race'],\n",
       "                              ordered=False),\n",
       "             'voted_gov': CategoricalDtype(categories=['[Democrat / Candidate 1]', '[Republican / Candidate 2]',\n",
       "                               '[Other / Candidate 3]', 'Other',\n",
       "                               'I Did Not Vote In This Race', 'Not Sure'],\n",
       "                              ordered=False),\n",
       "             'intent_rep_chosen': dtype('O'),\n",
       "             'intent_rep_fec': dtype('O'),\n",
       "             'intent_sen_chosen': dtype('O'),\n",
       "             'intent_sen_fec': dtype('O'),\n",
       "             'intent_gov_chosen': dtype('O'),\n",
       "             'intent_gov_fec': dtype('O'),\n",
       "             'voted_rep_chosen': dtype('O'),\n",
       "             'voted_rep_fec': dtype('O'),\n",
       "             'voted_sen_chosen': dtype('O'),\n",
       "             'voted_sen_fec': dtype('O'),\n",
       "             'voted_gov_chosen': dtype('O'),\n",
       "             'voted_gov_fec': dtype('O'),\n",
       "             'rep_current': dtype('O'),\n",
       "             'rep_icpsr': dtype('float64'),\n",
       "             'sen1_current': dtype('O'),\n",
       "             'sen1_icpsr': dtype('float64'),\n",
       "             'sen2_current': dtype('O'),\n",
       "             'sen2_icpsr': dtype('float64'),\n",
       "             'gov_current': dtype('O'),\n",
       "             'gov_fec': dtype('O')})"
      ]
     },
     "execution_count": 8,
     "metadata": {},
     "output_type": "execute_result"
    }
   ],
   "source": [
    "cces0616_dtypes"
   ]
  },
  {
   "cell_type": "markdown",
   "metadata": {},
   "source": [
    "### 2\\. Importing the Whole Kit and Kaboodle"
   ]
  },
  {
   "cell_type": "code",
   "execution_count": 11,
   "metadata": {},
   "outputs": [],
   "source": [
    "files = os.listdir(path)"
   ]
  },
  {
   "cell_type": "code",
   "execution_count": 14,
   "metadata": {},
   "outputs": [
    {
     "data": {
      "text/plain": [
       "'.DS_Store'"
      ]
     },
     "execution_count": 14,
     "metadata": {},
     "output_type": "execute_result"
    }
   ],
   "source": [
    "files.pop(0)"
   ]
  },
  {
   "cell_type": "code",
   "execution_count": 15,
   "metadata": {},
   "outputs": [
    {
     "name": "stdout",
     "output_type": "stream",
     "text": [
      "['1984_labeled_processed_race.feather', '1988_labeled_processed_race.feather', '1992_labeled_processed_race.feather', '1996_labeled_processed_race.feather', '2000_labeled_processed_race.feather', '2004_labeled_processed_race.feather', 'anes_timeseries_2016.feather', 'anes_timeseries_2016_voteval.feather', 'anes_timeseries_cdf.feather', 'annen061229.feather', 'annen2004_processed.feather', 'avgincome_orig.feather', 'cces_cumul_0616_rds.feather', 'cumulative_2006_2016_dta.feather', 'fips.icpsr.cbs.naes.feather', 'region_dummies.feather', 'region_dummies_84.feather', 'region_indic_annen2000.feather']\n"
     ]
    }
   ],
   "source": [
    "print(files)"
   ]
  },
  {
   "cell_type": "code",
   "execution_count": null,
   "metadata": {},
   "outputs": [],
   "source": [
    "# for file in files:\n",
    "#     feather.read_dataframe(path+file)"
   ]
  },
  {
   "cell_type": "code",
   "execution_count": 17,
   "metadata": {},
   "outputs": [],
   "source": [
    "anes_timeseries_2016_feather = feather.read_dataframe(path+'anes_timeseries_2016.feather')"
   ]
  },
  {
   "cell_type": "code",
   "execution_count": 18,
   "metadata": {},
   "outputs": [],
   "source": [
    "anes_timeseries_cdf_feather = feather.read_dataframe(path+'anes_timeseries_cdf.feather')"
   ]
  },
  {
   "cell_type": "code",
   "execution_count": 19,
   "metadata": {},
   "outputs": [],
   "source": [
    "labelprocrace_2004 = feather.read_dataframe(path+'2004_labeled_processed_race.feather')"
   ]
  },
  {
   "cell_type": "code",
   "execution_count": 20,
   "metadata": {},
   "outputs": [
    {
     "data": {
      "text/html": [
       "<div>\n",
       "<style scoped>\n",
       "    .dataframe tbody tr th:only-of-type {\n",
       "        vertical-align: middle;\n",
       "    }\n",
       "\n",
       "    .dataframe tbody tr th {\n",
       "        vertical-align: top;\n",
       "    }\n",
       "\n",
       "    .dataframe thead th {\n",
       "        text-align: right;\n",
       "    }\n",
       "</style>\n",
       "<table border=\"1\" class=\"dataframe\">\n",
       "  <thead>\n",
       "    <tr style=\"text-align: right;\">\n",
       "      <th></th>\n",
       "      <th>state</th>\n",
       "      <th>pres04</th>\n",
       "      <th>sex</th>\n",
       "      <th>race</th>\n",
       "      <th>age9</th>\n",
       "      <th>partyid</th>\n",
       "      <th>income</th>\n",
       "      <th>relign8</th>\n",
       "      <th>age60</th>\n",
       "      <th>age65</th>\n",
       "      <th>geocode</th>\n",
       "      <th>sizeplac</th>\n",
       "      <th>brnagain</th>\n",
       "      <th>attend</th>\n",
       "      <th>year</th>\n",
       "      <th>region</th>\n",
       "      <th>y</th>\n",
       "    </tr>\n",
       "  </thead>\n",
       "  <tbody>\n",
       "    <tr>\n",
       "      <th>0</th>\n",
       "      <td>2.0</td>\n",
       "      <td>1.0</td>\n",
       "      <td>2.0</td>\n",
       "      <td>1.0</td>\n",
       "      <td>2.0</td>\n",
       "      <td>NaN</td>\n",
       "      <td>NaN</td>\n",
       "      <td>NaN</td>\n",
       "      <td>1.0</td>\n",
       "      <td>2.0</td>\n",
       "      <td>3.0</td>\n",
       "      <td>5.0</td>\n",
       "      <td>NaN</td>\n",
       "      <td>NaN</td>\n",
       "      <td>2004.0</td>\n",
       "      <td>4.0</td>\n",
       "      <td>0.0</td>\n",
       "    </tr>\n",
       "    <tr>\n",
       "      <th>1</th>\n",
       "      <td>2.0</td>\n",
       "      <td>2.0</td>\n",
       "      <td>1.0</td>\n",
       "      <td>1.0</td>\n",
       "      <td>1.0</td>\n",
       "      <td>NaN</td>\n",
       "      <td>NaN</td>\n",
       "      <td>NaN</td>\n",
       "      <td>1.0</td>\n",
       "      <td>1.0</td>\n",
       "      <td>3.0</td>\n",
       "      <td>5.0</td>\n",
       "      <td>NaN</td>\n",
       "      <td>NaN</td>\n",
       "      <td>2004.0</td>\n",
       "      <td>4.0</td>\n",
       "      <td>1.0</td>\n",
       "    </tr>\n",
       "    <tr>\n",
       "      <th>2</th>\n",
       "      <td>2.0</td>\n",
       "      <td>1.0</td>\n",
       "      <td>2.0</td>\n",
       "      <td>2.0</td>\n",
       "      <td>3.0</td>\n",
       "      <td>NaN</td>\n",
       "      <td>NaN</td>\n",
       "      <td>NaN</td>\n",
       "      <td>2.0</td>\n",
       "      <td>3.0</td>\n",
       "      <td>3.0</td>\n",
       "      <td>5.0</td>\n",
       "      <td>NaN</td>\n",
       "      <td>NaN</td>\n",
       "      <td>2004.0</td>\n",
       "      <td>4.0</td>\n",
       "      <td>0.0</td>\n",
       "    </tr>\n",
       "    <tr>\n",
       "      <th>3</th>\n",
       "      <td>2.0</td>\n",
       "      <td>1.0</td>\n",
       "      <td>2.0</td>\n",
       "      <td>2.0</td>\n",
       "      <td>3.0</td>\n",
       "      <td>NaN</td>\n",
       "      <td>NaN</td>\n",
       "      <td>NaN</td>\n",
       "      <td>2.0</td>\n",
       "      <td>3.0</td>\n",
       "      <td>3.0</td>\n",
       "      <td>5.0</td>\n",
       "      <td>NaN</td>\n",
       "      <td>NaN</td>\n",
       "      <td>2004.0</td>\n",
       "      <td>4.0</td>\n",
       "      <td>0.0</td>\n",
       "    </tr>\n",
       "    <tr>\n",
       "      <th>4</th>\n",
       "      <td>2.0</td>\n",
       "      <td>1.0</td>\n",
       "      <td>2.0</td>\n",
       "      <td>1.0</td>\n",
       "      <td>4.0</td>\n",
       "      <td>NaN</td>\n",
       "      <td>NaN</td>\n",
       "      <td>NaN</td>\n",
       "      <td>2.0</td>\n",
       "      <td>4.0</td>\n",
       "      <td>3.0</td>\n",
       "      <td>5.0</td>\n",
       "      <td>NaN</td>\n",
       "      <td>NaN</td>\n",
       "      <td>2004.0</td>\n",
       "      <td>4.0</td>\n",
       "      <td>0.0</td>\n",
       "    </tr>\n",
       "  </tbody>\n",
       "</table>\n",
       "</div>"
      ],
      "text/plain": [
       "   state  pres04  sex  race  age9  partyid  income  relign8  age60  age65  \\\n",
       "0    2.0     1.0  2.0   1.0   2.0      NaN     NaN      NaN    1.0    2.0   \n",
       "1    2.0     2.0  1.0   1.0   1.0      NaN     NaN      NaN    1.0    1.0   \n",
       "2    2.0     1.0  2.0   2.0   3.0      NaN     NaN      NaN    2.0    3.0   \n",
       "3    2.0     1.0  2.0   2.0   3.0      NaN     NaN      NaN    2.0    3.0   \n",
       "4    2.0     1.0  2.0   1.0   4.0      NaN     NaN      NaN    2.0    4.0   \n",
       "\n",
       "   geocode  sizeplac  brnagain  attend    year  region    y  \n",
       "0      3.0       5.0       NaN     NaN  2004.0     4.0  0.0  \n",
       "1      3.0       5.0       NaN     NaN  2004.0     4.0  1.0  \n",
       "2      3.0       5.0       NaN     NaN  2004.0     4.0  0.0  \n",
       "3      3.0       5.0       NaN     NaN  2004.0     4.0  0.0  \n",
       "4      3.0       5.0       NaN     NaN  2004.0     4.0  0.0  "
      ]
     },
     "execution_count": 20,
     "metadata": {},
     "output_type": "execute_result"
    }
   ],
   "source": [
    "labelprocrace_2004.head()"
   ]
  },
  {
   "cell_type": "code",
   "execution_count": 21,
   "metadata": {},
   "outputs": [
    {
     "data": {
      "text/plain": [
       "state           0\n",
       "pres04        543\n",
       "sex           337\n",
       "race         1233\n",
       "age9          505\n",
       "partyid      3285\n",
       "income       7343\n",
       "relign8      7035\n",
       "age60         505\n",
       "age65         505\n",
       "geocode         0\n",
       "sizeplac      115\n",
       "brnagain    45524\n",
       "attend      47667\n",
       "year            0\n",
       "region          0\n",
       "y            1787\n",
       "dtype: int64"
      ]
     },
     "execution_count": 21,
     "metadata": {},
     "output_type": "execute_result"
    }
   ],
   "source": [
    "labelprocrace_2004.isnull().sum()"
   ]
  },
  {
   "cell_type": "code",
   "execution_count": 35,
   "metadata": {},
   "outputs": [
    {
     "data": {
      "text/plain": [
       "(55674, 952)"
      ]
     },
     "execution_count": 35,
     "metadata": {},
     "output_type": "execute_result"
    }
   ],
   "source": [
    "anes_timeseries_cdf_feather.shape"
   ]
  },
  {
   "cell_type": "code",
   "execution_count": 36,
   "metadata": {},
   "outputs": [],
   "source": [
    "anes_timeseries_2016_voteval = feather.read_dataframe(path+'anes_timeseries_2016_voteval.feather')"
   ]
  },
  {
   "cell_type": "code",
   "execution_count": 22,
   "metadata": {},
   "outputs": [
    {
     "data": {
      "text/plain": [
       "Index(['version', 'V160001', 'V160101', 'V160101f', 'V160101w', 'V160102',\n",
       "       'V160102f', 'V160102w', 'V160201', 'V160201f',\n",
       "       ...\n",
       "       'V168123', 'V168124', 'V168125', 'V168126', 'V168127', 'V168128',\n",
       "       'V168129', 'V168130', 'V168131', 'V168132'],\n",
       "      dtype='object', length=1290)"
      ]
     },
     "execution_count": 22,
     "metadata": {},
     "output_type": "execute_result"
    }
   ],
   "source": [
    "anes_timeseries_2016_feather.columns"
   ]
  },
  {
   "cell_type": "code",
   "execution_count": 23,
   "metadata": {},
   "outputs": [
    {
     "data": {
      "text/plain": [
       "Index(['Version', 'VCF0004', 'VCF0006', 'VCF0006a', 'VCF0009x', 'VCF0010x',\n",
       "       'VCF0011x', 'VCF0009y', 'VCF0010y', 'VCF0011y',\n",
       "       ...\n",
       "       'VCF9132', 'VCF9133', 'VCF9134', 'VCF9149', 'VCF9150', 'VCF9151',\n",
       "       'VCF9152', 'VCF9153', 'VCF9154', 'VCF9155'],\n",
       "      dtype='object', length=952)"
      ]
     },
     "execution_count": 23,
     "metadata": {},
     "output_type": "execute_result"
    }
   ],
   "source": [
    "anes_timeseries_cdf_feather.columns"
   ]
  },
  {
   "cell_type": "code",
   "execution_count": 24,
   "metadata": {},
   "outputs": [],
   "source": [
    "income_vote = labelprocrace_2004.dropna(axis=0, subset=['income','pres04'], how='any')"
   ]
  },
  {
   "cell_type": "code",
   "execution_count": 25,
   "metadata": {},
   "outputs": [],
   "source": [
    "income_vote = income_vote[(income_vote['pres04'] == 1.) | (income_vote['pres04'] == 2.)][['income','pres04']]"
   ]
  },
  {
   "cell_type": "code",
   "execution_count": 26,
   "metadata": {},
   "outputs": [],
   "source": [
    "income_vote['income'] = income_vote['income'].apply(lambda x: str(x))"
   ]
  },
  {
   "cell_type": "code",
   "execution_count": 27,
   "metadata": {},
   "outputs": [],
   "source": [
    "income_vote_dummies = pd.get_dummies(income_vote['income'])"
   ]
  },
  {
   "cell_type": "code",
   "execution_count": 29,
   "metadata": {},
   "outputs": [],
   "source": [
    "income_vote = pd.concat([income_vote,income_vote_dummies], join='inner', axis=1)"
   ]
  },
  {
   "cell_type": "code",
   "execution_count": 30,
   "metadata": {},
   "outputs": [],
   "source": [
    "income_vote['pres04'] = income_vote['pres04'].astype('int64')"
   ]
  },
  {
   "cell_type": "code",
   "execution_count": 31,
   "metadata": {},
   "outputs": [],
   "source": [
    "from sklearn.linear_model import LogisticRegression\n",
    "from sklearn.model_selection import train_test_split\n",
    "from sklearn.metrics import accuracy_score, classification_report, confusion_matrix"
   ]
  },
  {
   "cell_type": "code",
   "execution_count": 32,
   "metadata": {},
   "outputs": [
    {
     "data": {
      "text/plain": [
       "['income', 'pres04', '1.0', '2.0', '3.0', '4.0', '5.0']"
      ]
     },
     "execution_count": 32,
     "metadata": {},
     "output_type": "execute_result"
    }
   ],
   "source": [
    "list(income_vote.columns)"
   ]
  },
  {
   "cell_type": "code",
   "execution_count": 33,
   "metadata": {},
   "outputs": [],
   "source": [
    "X_train, X_test, y_train, y_test = train_test_split(income_vote[['1.0','2.0','3.0','4.0','5.0']],income_vote['pres04'],\n",
    "                                                    test_size=0.2, random_state=42)\n",
    "lr = LogisticRegression(random_state=42)\n"
   ]
  },
  {
   "cell_type": "code",
   "execution_count": 34,
   "metadata": {},
   "outputs": [
    {
     "data": {
      "text/plain": [
       "LogisticRegression(C=1.0, class_weight=None, dual=False, fit_intercept=True,\n",
       "          intercept_scaling=1, max_iter=100, multi_class='ovr', n_jobs=1,\n",
       "          penalty='l2', random_state=42, solver='liblinear', tol=0.0001,\n",
       "          verbose=0, warm_start=False)"
      ]
     },
     "execution_count": 34,
     "metadata": {},
     "output_type": "execute_result"
    }
   ],
   "source": [
    "lr.fit(X_train, y_train)"
   ]
  },
  {
   "cell_type": "code",
   "execution_count": 35,
   "metadata": {},
   "outputs": [
    {
     "data": {
      "text/plain": [
       "(array([[-0.44081222, -0.04883874,  0.12228555,  0.11128208,  0.28668769]]),\n",
       " array([0.03060435]))"
      ]
     },
     "execution_count": 35,
     "metadata": {},
     "output_type": "execute_result"
    }
   ],
   "source": [
    "(lr.coef_, lr.intercept_)"
   ]
  },
  {
   "cell_type": "code",
   "execution_count": 36,
   "metadata": {},
   "outputs": [],
   "source": [
    "y_pred = lr.predict(X_test)"
   ]
  },
  {
   "cell_type": "code",
   "execution_count": 37,
   "metadata": {},
   "outputs": [
    {
     "data": {
      "text/plain": [
       "0.5424797803665504"
      ]
     },
     "execution_count": 37,
     "metadata": {},
     "output_type": "execute_result"
    }
   ],
   "source": [
    "accuracy_score(y_test, y_pred)"
   ]
  }
 ],
 "metadata": {
  "kernelspec": {
   "display_name": "Python 3",
   "language": "python",
   "name": "python3"
  },
  "language_info": {
   "codemirror_mode": {
    "name": "ipython",
    "version": 3
   },
   "file_extension": ".py",
   "mimetype": "text/x-python",
   "name": "python",
   "nbconvert_exporter": "python",
   "pygments_lexer": "ipython3",
   "version": "3.6.5"
  }
 },
 "nbformat": 4,
 "nbformat_minor": 2
}
